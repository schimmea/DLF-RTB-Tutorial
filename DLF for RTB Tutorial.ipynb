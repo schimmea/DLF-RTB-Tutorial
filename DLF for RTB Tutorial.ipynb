{
 "cells": [
  {
   "cell_type": "code",
   "execution_count": 5,
   "metadata": {
    "ExecuteTime": {
     "end_time": "2021-03-25T17:40:35.844598Z",
     "start_time": "2021-03-25T17:40:34.104588Z"
    }
   },
   "outputs": [],
   "source": [
    "import pandas as pd\n",
    "import numpy as np\n",
    "from tqdm import tqdm\n",
    "from matplotlib import pyplot as plt\n",
    "import seaborn as sns\n",
    "from lifelines import KaplanMeierFitter\n",
    "from lifelines.plotting import plot_lifetimes\n",
    "from sklearn.metrics import roc_auc_score\n",
    "import sys\n",
    "sys.path.append('Scripts')\n",
    "\n",
    "# Scripts\n",
    "from Scripts.load_data import load_DLF\n",
    "from Scripts import km\n",
    "from Scripts import DLFwrapper"
   ]
  },
  {
   "cell_type": "markdown",
   "metadata": {
    "ExecuteTime": {
     "end_time": "2020-12-09T20:55:35.467635Z",
     "start_time": "2020-12-09T20:55:35.463637Z"
    }
   },
   "source": [
    "<br>\n",
    "<p style=\"font-size:30px;\">Deep Landscape Forecasting for Real-time Bidding Advertising</p>\n",
    "<p style=\"font-size:30px;\">(Winter 2020/21)</p>\n",
    "<br>"
   ]
  },
  {
   "cell_type": "markdown",
   "metadata": {},
   "source": [
    "# Introduction"
   ]
  },
  {
   "cell_type": "markdown",
   "metadata": {},
   "source": [
    "In their Paper, Ren et al. (2018) address the problem of bid landscape forecasting in real-time online advertisement auctions. They employ and compare different survival analysis methods and propose a novel way of predicting the price distributions, improving on past research in multiple ways.\n",
    "\n",
    "In the following, we give a brief introduction into how real-time bidding works, what survival analysis is, and how the two can be brought together in an insightful way. Afterwards, we discuss the key points of the proposed new method and how it improves upon previous work."
   ]
  },
  {
   "cell_type": "markdown",
   "metadata": {},
   "source": [
    "# Real-Time Bidding (RTB)"
   ]
  },
  {
   "cell_type": "markdown",
   "metadata": {
    "pycharm": {
     "name": "#%% md\n"
    }
   },
   "source": [
    "Real-time bidding describes the mechanism of advertisers bidding on ad slots in real time while a page is loading for the accessing user.\n",
    "The bids are normally submitted automatically by the advertisers and based on features like region, time, ad dimensions, domain, etc.\n",
    "\n",
    "The bids are collected by the publisher, and the ad of the highest bidding advertiser is displayed.\n",
    "Often, it is a **second-price** format, meaning that the auction winner only pays the second highest bid, which is then defined as market price.\n",
    "This format ensures that the participants' bids match their true reservation values (Yuan et al., 2014).\n",
    "\n",
    "Predicting this market price is a crucial but challenging problem, since the market price is highly dynamic across different auctions and it is infeasible to model all advertisers' bidding strategies individually (Ren et al., 2018).\\\n",
    "Furthermore, only the winner of an auction knows its true market price. Everyone else just knows that the market price must be higher than (or equal to) their own bid. \n",
    "In survival analysis, this property is called \"right-censored\". Section 3 explains this in more detail.\n",
    "\n",
    "The following graphic illustrates the RTB mechanism in 12 steps:\n",
    "\n",
    "<img src=\"Image/RTB.jpeg\" width=\"600\">\n",
    "<center>Source: iPinYou Global RTB Bidding Algorithm Competition Dataset, Liao et al. (2020)</center>"
   ]
  },
  {
   "cell_type": "markdown",
   "metadata": {},
   "source": [
    "# Survival Analysis\n"
   ]
  },
  {
   "cell_type": "markdown",
   "metadata": {},
   "source": [
    "Also called \"Time to Event\"-Analysis, Survival Analysis estimates the time until the occurrence of an event for different individuals of a population.\\\n",
    "It was originally developed by medical researchers and data analysts to model the lifespan of subjects in medical studies, prominent examples being survival times in an ICU or leukemia progression.\\\n",
    "In these cases, the event of interest would be \"death\", as the name suggests. However, over time, the methods have started to see usage in many other applications too, such as credit default risk, or - like in our case - auctions.\n",
    "\n",
    "There are two main functions in survival analysis trying to be estimated. We handle $T$ as a continuous random variable.\n",
    "1) **Survival Function**\n",
    "$$S(t)   = Pr(T>t)$$\n",
    "\n",
    "\n",
    "<center>\"Probability of surviving beyond time t\"<center>                                  \n",
    "\n",
    "2) **Hazard Function**\n",
    "$$h(t)   = \\lim \\limits_{h \\to 0} \\frac{Pr(T < t + h | T > t)}{h}$$\n",
    " \n",
    "<center>\"Probability of dying at the next time step, given that the subject is alive now\"<center>                         \n",
    "\n",
    "\\\n",
    "Conceptually, the hazard function represents the rate of decrease of the (true) survival function at every time step."
   ]
  },
  {
   "cell_type": "markdown",
   "metadata": {},
   "source": [
    "## Right-Censored Data\n",
    "We speak of right-censored data when we do not know if the event in question occurred, e.g. because a subject left the study, or the study ended.\n",
    "\n",
    "The following figure shows the lifetimes (in years) for each subject of a population. The blue lines represent the right-censored data while the red lines represent the event occurring at some point during the study."
   ]
  },
  {
   "cell_type": "code",
   "execution_count": 16,
   "metadata": {
    "ExecuteTime": {
     "end_time": "2021-03-23T19:54:42.699225Z",
     "start_time": "2021-03-23T19:54:42.420237Z"
    }
   },
   "outputs": [
    {
     "data": {
      "image/png": "[encoded data removed]",
      "text/plain": [
       "<Figure size 432x288 with 1 Axes>"
      ]
     },
     "metadata": {
      "needs_background": "light"
     },
     "output_type": "display_data"
    }
   ],
   "source": [
    "events = pd.DataFrame({\"Time\" : [5, 6, 6, 3, 4, 4, 1], \"Event\": [1, 0, 0, 1, 1, 1, 0] })\n",
    "ax = plot_lifetimes(events['Time'], events['Event']);\n",
    "ax.set_xlabel(\"Time in years\")\n",
    "ax.set_ylabel(\"Subject\", ha=\"right\", rotation=0);"
   ]
  },
  {
   "cell_type": "markdown",
   "metadata": {},
   "source": [
    "Survival analysis assumes that the censoring is not related to the probability of the event occurring.\\\n",
    "For example, if we analyze the progression of an illness and a patient stops showing up to the study because he feels much better, it would violate this assumption and the data point should be excluded.\n",
    "\n",
    "**Note**: There also exists left-censored data, but it is irrelevant to our use case and therefore not covered in this tutorial."
   ]
  },
  {
   "cell_type": "markdown",
   "metadata": {},
   "source": [
    "## Kaplan-Meier Analysis"
   ]
  },
  {
   "cell_type": "markdown",
   "metadata": {},
   "source": [
    "The simple go-to approach for modeling a survival function is the non-parametric Kaplan-Meier Estimator.\\\n",
    "KM computes probabilities of event occurrences at a certain time and multiplies them by any earlier probabilities to get a final estimate. Therefore, it counts how many people died/survived at each data point in time.\n",
    "\n",
    "For every time step $t_i \\leq t$, we divide the number of occurring events $d_i$ by the number of remaining non-censored subjects $n_i$ (\"subjects at risk\"), obtaining the probability of dying at that time step. Consequently, by subtracting this value from 1, we obtain the probability of not dying. The product of all these probabilities yields the survival function at time $t$.\n",
    "\n",
    "$$S(t) = Pr(T > t) = \\prod_{t_i \\leq t}(1 - Pr(t_i \\leq t)) = \\prod_{t_i \\leq t} \\left(1 - \\frac{d_i}{n_i}\\right)$$\n",
    "\n",
    "---\n",
    "\n",
    "To illustrate briefly how KM works, we calculate the survival function by hand on our 7 row dataset from before."
   ]
  },
  {
   "cell_type": "code",
   "execution_count": 17,
   "metadata": {
    "ExecuteTime": {
     "end_time": "2021-03-23T19:54:44.422726Z",
     "start_time": "2021-03-23T19:54:44.406726Z"
    }
   },
   "outputs": [
    {
     "data": {
      "text/html": [
       "<div>\n",
       "<style scoped>\n",
       "    .dataframe tbody tr th:only-of-type {\n",
       "        vertical-align: middle;\n",
       "    }\n",
       "\n",
       "    .dataframe tbody tr th {\n",
       "        vertical-align: top;\n",
       "    }\n",
       "\n",
       "    .dataframe thead th {\n",
       "        text-align: right;\n",
       "    }\n",
       "</style>\n",
       "<table border=\"1\" class=\"dataframe\">\n",
       "  <thead>\n",
       "    <tr style=\"text-align: right;\">\n",
       "      <th></th>\n",
       "      <th>Time</th>\n",
       "      <th>Event</th>\n",
       "    </tr>\n",
       "  </thead>\n",
       "  <tbody>\n",
       "    <tr>\n",
       "      <th>6</th>\n",
       "      <td>1</td>\n",
       "      <td>0</td>\n",
       "    </tr>\n",
       "    <tr>\n",
       "      <th>3</th>\n",
       "      <td>3</td>\n",
       "      <td>1</td>\n",
       "    </tr>\n",
       "    <tr>\n",
       "      <th>4</th>\n",
       "      <td>4</td>\n",
       "      <td>1</td>\n",
       "    </tr>\n",
       "    <tr>\n",
       "      <th>5</th>\n",
       "      <td>4</td>\n",
       "      <td>1</td>\n",
       "    </tr>\n",
       "    <tr>\n",
       "      <th>0</th>\n",
       "      <td>5</td>\n",
       "      <td>1</td>\n",
       "    </tr>\n",
       "    <tr>\n",
       "      <th>1</th>\n",
       "      <td>6</td>\n",
       "      <td>0</td>\n",
       "    </tr>\n",
       "    <tr>\n",
       "      <th>2</th>\n",
       "      <td>6</td>\n",
       "      <td>0</td>\n",
       "    </tr>\n",
       "  </tbody>\n",
       "</table>\n",
       "</div>"
      ],
      "text/plain": [
       "   Time  Event\n",
       "6     1      0\n",
       "3     3      1\n",
       "4     4      1\n",
       "5     4      1\n",
       "0     5      1\n",
       "1     6      0\n",
       "2     6      0"
      ]
     },
     "execution_count": 17,
     "metadata": {},
     "output_type": "execute_result"
    }
   ],
   "source": [
    "events.sort_values(\"Time\")"
   ]
  },
  {
   "cell_type": "markdown",
   "metadata": {},
   "source": [
    "The calculation is executed as follows:\n",
    "$$S(0) = 1$$\n",
    "$$S(1) = 1 \\cdot \\left(1 - \\frac{0}{7}\\right) = 1$$\n",
    "$$\\text{S(2) is omitted because no event or censorship happened at this time step.}$$\n",
    "$$S(3) = 1 \\cdot \\left(1 - \\frac{1}{6}\\right) = \\frac{5}{6}$$\n",
    "$$S(4) = \\frac{5}{6} \\cdot \\left(1 - \\frac{2}{5}\\right) = \\frac{1}{2}$$\n",
    "$$S(5) = \\frac{1}{2} \\cdot \\left(1 - \\frac{1}{3}\\right) = \\frac{1}{3}$$\n",
    "$$S(6) = \\frac{1}{3} \\cdot \\left(1 - \\frac{0}{2}\\right) = \\frac{1}{3}$$\n",
    "\n",
    "The computation produces in the following plot. It shows a median survival time of 5 years.\\\n",
    "Censorship is indicated by a vertical line."
   ]
  },
  {
   "cell_type": "code",
   "execution_count": 18,
   "metadata": {
    "ExecuteTime": {
     "end_time": "2021-03-23T19:54:45.735590Z",
     "start_time": "2021-03-23T19:54:45.387580Z"
    }
   },
   "outputs": [
    {
     "data": {
      "image/png": "[encoded data removed]",
      "text/plain": [
       "<Figure size 432x288 with 2 Axes>"
      ]
     },
     "metadata": {
      "needs_background": "light"
     },
     "output_type": "display_data"
    }
   ],
   "source": [
    "kme = KaplanMeierFitter()\n",
    "kme.fit(events['Time'], events['Event'], label = 'K-M Estimate')\n",
    "ax = kme.plot(ci_show=False, at_risk_counts=True, show_censors=True)\n",
    "ax.set_ylabel(\"Survival rate\", ha=\"right\", rotation=0)\n",
    "ax.set_xlabel(\"Time in years\");"
   ]
  },
  {
   "cell_type": "code",
   "execution_count": 20,
   "metadata": {
    "ExecuteTime": {
     "end_time": "2021-03-23T19:54:52.000671Z",
     "start_time": "2021-03-23T19:54:51.985662Z"
    }
   },
   "outputs": [
    {
     "name": "stdout",
     "output_type": "stream",
     "text": [
      "50% of subjects survive the first 5 years.\n"
     ]
    }
   ],
   "source": [
    "print(f\"50% of subjects survive the first {kme.median_survival_time_:.0f} years.\")"
   ]
  },
  {
   "cell_type": "markdown",
   "metadata": {},
   "source": [
    "## Transitioning to RTB"
   ]
  },
  {
   "cell_type": "markdown",
   "metadata": {},
   "source": [
    "For our actual use case, we change the premise and context of traditional survival analysis.\n",
    "\n",
    "The \"time\" variable is replaced by **market price**. \\\n",
    "The event in question is **winning the auction**. \\\n",
    "Losing the auction is considered **right-censorship**, because the market price is unknown.\n",
    "\n",
    "The new survival function $S(b)$, where $b$ is some bid, indicates the **losing probability** at this bid size."
   ]
  },
  {
   "cell_type": "markdown",
   "metadata": {},
   "source": [
    "# RTB Data"
   ]
  },
  {
   "cell_type": "markdown",
   "metadata": {},
   "source": [
    "For our work, we are using real RTB data from iPinYou.com, published in 2013. It contains 64.7 million bidding records across 9 different campaigns, collected over 10 days.\\\n",
    "Each row contains a true market price $z$, a bid price $b$ (both in Chinese Yuan per CPM), and 16 categorical attributes $x$, like user and ad slot data.\n",
    "\n",
    "In the following, we will be exploring data from one single campaign, apply the KM estimator again, and finally show the approach developed by Ren et al."
   ]
  },
  {
   "cell_type": "markdown",
   "metadata": {
    "pycharm": {
     "name": "#%% md\n"
    }
   },
   "source": [
    "## EDA\n",
    "The campaign we use is number 2261, which contains 1.031.479 rows in total. The first 7 days of data are used as train set, while the last 3 days are used as test set.\n",
    "Feature Engineering is not covered, as it is irrelevant to the tutorial, but it leads to all values across all $x$ features being mapped to unique integer numbers for convenience in model training. The file `featindex.txt` contains this mapping, and we use it to translate the features back into readable format.\n",
    "\n",
    "Firstly, we will load the data and check its shape."
   ]
  },
  {
   "cell_type": "code",
   "execution_count": 21,
   "metadata": {
    "ExecuteTime": {
     "end_time": "2021-03-23T19:55:38.302764Z",
     "start_time": "2021-03-23T19:54:54.516764Z"
    },
    "pycharm": {
     "name": "#%%\n"
    },
    "scrolled": true
   },
   "outputs": [
    {
     "name": "stdout",
     "output_type": "stream",
     "text": [
      "D:\\Dokumente\\Winfo\\WiSe2021\\Seminar Information Systems\\Final Paper\\Tutorial\n",
      "Loading: data\\2261\\featindex.txt\n",
      "Loading: data\\2261\\test.yzbx.txt\n",
      "Loading: data\\2261\\train.yzbx.txt\n"
     ]
    },
    {
     "name": "stderr",
     "output_type": "stream",
     "text": [
      "\r",
      "  0%|                                                                                           | 0/16 [00:00<?, ?it/s]"
     ]
    },
    {
     "name": "stdout",
     "output_type": "stream",
     "text": [
      "Remapping x values from feature index.\n"
     ]
    },
    {
     "name": "stderr",
     "output_type": "stream",
     "text": [
      "100%|██████████████████████████████████████████████████████████████████████████████████| 16/16 [00:34<00:00,  2.17s/it]\n"
     ]
    },
    {
     "name": "stdout",
     "output_type": "stream",
     "text": [
      "Data shape: (1031479, 19)\n"
     ]
    }
   ],
   "source": [
    "train, test = load_DLF(\"data\\\\2261\", remap_colnames=True)\n",
    "combined = train.append(test, ignore_index=True)\n",
    "print(f\"Data shape: {combined.shape}\")"
   ]
  },
  {
   "cell_type": "code",
   "execution_count": 22,
   "metadata": {
    "ExecuteTime": {
     "end_time": "2021-03-23T19:55:42.273764Z",
     "start_time": "2021-03-23T19:55:42.242764Z"
    }
   },
   "outputs": [
    {
     "data": {
      "text/html": [
       "<div>\n",
       "<style scoped>\n",
       "    .dataframe tbody tr th:only-of-type {\n",
       "        vertical-align: middle;\n",
       "    }\n",
       "\n",
       "    .dataframe tbody tr th {\n",
       "        vertical-align: top;\n",
       "    }\n",
       "\n",
       "    .dataframe thead th {\n",
       "        text-align: right;\n",
       "    }\n",
       "</style>\n",
       "<table border=\"1\" class=\"dataframe\">\n",
       "  <thead>\n",
       "    <tr style=\"text-align: right;\">\n",
       "      <th></th>\n",
       "      <th>Click</th>\n",
       "      <th>Market_Price</th>\n",
       "      <th>Bid</th>\n",
       "      <th>weekday</th>\n",
       "      <th>hour</th>\n",
       "      <th>IP</th>\n",
       "      <th>region</th>\n",
       "      <th>city</th>\n",
       "      <th>adexchange</th>\n",
       "      <th>domain</th>\n",
       "      <th>slotid</th>\n",
       "      <th>slotwidth</th>\n",
       "      <th>slotheight</th>\n",
       "      <th>slotvisibility</th>\n",
       "      <th>slotformat</th>\n",
       "      <th>creative</th>\n",
       "      <th>advertiser</th>\n",
       "      <th>useragent</th>\n",
       "      <th>slotprice</th>\n",
       "    </tr>\n",
       "  </thead>\n",
       "  <tbody>\n",
       "    <tr>\n",
       "      <th>0</th>\n",
       "      <td>0</td>\n",
       "      <td>289</td>\n",
       "      <td>67</td>\n",
       "      <td>4</td>\n",
       "      <td>17</td>\n",
       "      <td>27.24.140.*</td>\n",
       "      <td>183</td>\n",
       "      <td>194</td>\n",
       "      <td>3</td>\n",
       "      <td>a05e2e05e42bd2dd5d5c0e182f9dab4e</td>\n",
       "      <td>Astro_F_bottom_Width</td>\n",
       "      <td>1000</td>\n",
       "      <td>90</td>\n",
       "      <td>Na</td>\n",
       "      <td>Na</td>\n",
       "      <td>12633</td>\n",
       "      <td>2261</td>\n",
       "      <td>windows_chrome</td>\n",
       "      <td>11-50</td>\n",
       "    </tr>\n",
       "    <tr>\n",
       "      <th>1</th>\n",
       "      <td>0</td>\n",
       "      <td>181</td>\n",
       "      <td>45</td>\n",
       "      <td>4</td>\n",
       "      <td>17</td>\n",
       "      <td>27.24.140.*</td>\n",
       "      <td>183</td>\n",
       "      <td>194</td>\n",
       "      <td>3</td>\n",
       "      <td>a05e2e05e42bd2dd5d5c0e182f9dab4e</td>\n",
       "      <td>Astro_F_Rectangle</td>\n",
       "      <td>300</td>\n",
       "      <td>250</td>\n",
       "      <td>Na</td>\n",
       "      <td>Na</td>\n",
       "      <td>12622</td>\n",
       "      <td>2261</td>\n",
       "      <td>windows_chrome</td>\n",
       "      <td>1-10</td>\n",
       "    </tr>\n",
       "    <tr>\n",
       "      <th>2</th>\n",
       "      <td>0</td>\n",
       "      <td>87</td>\n",
       "      <td>37</td>\n",
       "      <td>4</td>\n",
       "      <td>15</td>\n",
       "      <td>61.238.156.*</td>\n",
       "      <td>394</td>\n",
       "      <td>394</td>\n",
       "      <td>3</td>\n",
       "      <td>120b1f55d5a56547dad95f33d568fdee</td>\n",
       "      <td>Finance_GGCX_F_GGMG_ZQ1</td>\n",
       "      <td>180</td>\n",
       "      <td>600</td>\n",
       "      <td>Na</td>\n",
       "      <td>Na</td>\n",
       "      <td>12615</td>\n",
       "      <td>2261</td>\n",
       "      <td>windows_chrome</td>\n",
       "      <td>11-50</td>\n",
       "    </tr>\n",
       "    <tr>\n",
       "      <th>3</th>\n",
       "      <td>0</td>\n",
       "      <td>20</td>\n",
       "      <td>38</td>\n",
       "      <td>4</td>\n",
       "      <td>14</td>\n",
       "      <td>123.166.5.*</td>\n",
       "      <td>65</td>\n",
       "      <td>66</td>\n",
       "      <td>3</td>\n",
       "      <td>79a8816bf916f6e761143c4f8a826fd</td>\n",
       "      <td>Finance_GGCX_F_GPJJ_ZQ1</td>\n",
       "      <td>180</td>\n",
       "      <td>600</td>\n",
       "      <td>Na</td>\n",
       "      <td>Na</td>\n",
       "      <td>12615</td>\n",
       "      <td>2261</td>\n",
       "      <td>windows_ie</td>\n",
       "      <td>11-50</td>\n",
       "    </tr>\n",
       "    <tr>\n",
       "      <th>4</th>\n",
       "      <td>0</td>\n",
       "      <td>147</td>\n",
       "      <td>12</td>\n",
       "      <td>4</td>\n",
       "      <td>18</td>\n",
       "      <td>10.246.112.*</td>\n",
       "      <td>0</td>\n",
       "      <td>0</td>\n",
       "      <td>1</td>\n",
       "      <td>f7b4f217ffc9ee3bd9a3493b0d70355e</td>\n",
       "      <td>mm_14149469_2225536_13238633</td>\n",
       "      <td>160</td>\n",
       "      <td>600</td>\n",
       "      <td>Na</td>\n",
       "      <td>Na</td>\n",
       "      <td>12613</td>\n",
       "      <td>2261</td>\n",
       "      <td>windows_ie</td>\n",
       "      <td>0</td>\n",
       "    </tr>\n",
       "  </tbody>\n",
       "</table>\n",
       "</div>"
      ],
      "text/plain": [
       "   Click  Market_Price  Bid weekday hour            IP region city adexchange  \\\n",
       "0      0           289   67       4   17   27.24.140.*    183  194          3   \n",
       "1      0           181   45       4   17   27.24.140.*    183  194          3   \n",
       "2      0            87   37       4   15  61.238.156.*    394  394          3   \n",
       "3      0            20   38       4   14   123.166.5.*     65   66          3   \n",
       "4      0           147   12       4   18  10.246.112.*      0    0          1   \n",
       "\n",
       "                             domain                        slotid slotwidth  \\\n",
       "0  a05e2e05e42bd2dd5d5c0e182f9dab4e          Astro_F_bottom_Width      1000   \n",
       "1  a05e2e05e42bd2dd5d5c0e182f9dab4e             Astro_F_Rectangle       300   \n",
       "2  120b1f55d5a56547dad95f33d568fdee       Finance_GGCX_F_GGMG_ZQ1       180   \n",
       "3   79a8816bf916f6e761143c4f8a826fd       Finance_GGCX_F_GPJJ_ZQ1       180   \n",
       "4  f7b4f217ffc9ee3bd9a3493b0d70355e  mm_14149469_2225536_13238633       160   \n",
       "\n",
       "  slotheight slotvisibility slotformat creative advertiser       useragent  \\\n",
       "0         90             Na         Na    12633       2261  windows_chrome   \n",
       "1        250             Na         Na    12622       2261  windows_chrome   \n",
       "2        600             Na         Na    12615       2261  windows_chrome   \n",
       "3        600             Na         Na    12615       2261      windows_ie   \n",
       "4        600             Na         Na    12613       2261      windows_ie   \n",
       "\n",
       "  slotprice  \n",
       "0     11-50  \n",
       "1      1-10  \n",
       "2     11-50  \n",
       "3     11-50  \n",
       "4         0  "
      ]
     },
     "execution_count": 22,
     "metadata": {},
     "output_type": "execute_result"
    }
   ],
   "source": [
    "combined.head()"
   ]
  },
  {
   "cell_type": "markdown",
   "metadata": {},
   "source": [
    "The feature `Click` is not relevant to us and can be ignored."
   ]
  },
  {
   "cell_type": "markdown",
   "metadata": {},
   "source": [
    "As mentioned in section 2, bidders who lose the auction do not know the true market price. We therefore add a column `Censored` to reflect this:"
   ]
  },
  {
   "cell_type": "code",
   "execution_count": 23,
   "metadata": {
    "ExecuteTime": {
     "end_time": "2021-03-23T19:55:45.947762Z",
     "start_time": "2021-03-23T19:55:45.933764Z"
    }
   },
   "outputs": [],
   "source": [
    "combined[\"Censored\"] = (combined.Bid <= combined.Market_Price).astype(\"int\")"
   ]
  },
  {
   "cell_type": "markdown",
   "metadata": {
    "pycharm": {
     "name": "#%% md\n"
    }
   },
   "source": [
    "We examine some descriptive statistics:"
   ]
  },
  {
   "cell_type": "code",
   "execution_count": 24,
   "metadata": {
    "ExecuteTime": {
     "end_time": "2021-03-23T19:55:49.621764Z",
     "start_time": "2021-03-23T19:55:49.528764Z"
    }
   },
   "outputs": [
    {
     "data": {
      "image/png": "[encoded data removed]",
      "text/plain": [
       "<Figure size 360x360 with 1 Axes>"
      ]
     },
     "metadata": {},
     "output_type": "display_data"
    }
   ],
   "source": [
    "plt.figure(figsize=(5,5))\n",
    "combined[\"Censored\"].value_counts().plot.pie(labels=[\"Lost\", \"Won\"], autopct=\"%1.1f%%\", textprops={'fontsize': 14}, colors=[\"#d9544d\", \"#39ad48\"])\n",
    "plt.title(\"Share of won vs. lost auctions\")\n",
    "plt.ylabel(\"\");"
   ]
  },
  {
   "cell_type": "markdown",
   "metadata": {},
   "source": [
    "We see a winrate of 31.2%"
   ]
  },
  {
   "cell_type": "code",
   "execution_count": 25,
   "metadata": {
    "ExecuteTime": {
     "end_time": "2021-03-23T19:55:53.588763Z",
     "start_time": "2021-03-23T19:55:53.226763Z"
    }
   },
   "outputs": [
    {
     "data": {
      "image/png": "[encoded data removed]",
      "text/plain": [
       "<Figure size 1080x360 with 2 Axes>"
      ]
     },
     "metadata": {
      "needs_background": "light"
     },
     "output_type": "display_data"
    }
   ],
   "source": [
    "_, chart = plt.subplots(1, 2, figsize=(15, 5))\n",
    "chart = chart.ravel()\n",
    "plt.sca(chart[0])\n",
    "sns.boxplot(x=\"Censored\", y=\"Market_Price\", data=combined, order=[0, 1], palette=[sns.xkcd_rgb[\"medium green\"], sns.xkcd_rgb[\"pale red\"]])\n",
    "plt.ylabel(\"Market\\nPrice\", ha=\"right\", rotation=0)\n",
    "plt.xlabel(\"Auction Won\")\n",
    "plt.xticks(ticks=[1, 0], labels=[\"No\", \"Yes\"])\n",
    "plt.ylim(0, 300);\n",
    "\n",
    "plt.sca(chart[1])\n",
    "sns.boxplot(x=\"Censored\", y=\"Bid\", data=combined, order=[0, 1], palette=[sns.xkcd_rgb[\"medium green\"], sns.xkcd_rgb[\"pale red\"]])\n",
    "plt.ylabel(\"Bid\", ha=\"right\", rotation=0)\n",
    "plt.xlabel(\"Auction Won\")\n",
    "plt.xticks(ticks=[0, 1], labels=[\"Yes\", \"No\"])\n",
    "plt.ylim(0, 300);"
   ]
  },
  {
   "cell_type": "markdown",
   "metadata": {},
   "source": [
    "Notable is the difference in average market price between winning and losing logs.\n",
    "This reflects the second-price auction mechanism and highlights the importance of including losing data in training to overcome this bias (more on this in section 5).\n",
    "\n",
    "Furthermore, the maximum bid of 69 against the maximum market price of 294 indicates that the data set does not contain all submitted bids, which is important to keep in mind."
   ]
  },
  {
   "cell_type": "markdown",
   "metadata": {
    "pycharm": {
     "name": "#%% md\n"
    }
   },
   "source": [
    "Finally, we plot the distribution of market prices in the dataset and the corresponding cumulative proportion.\n",
    "Most interesting is the spike at 20."
   ]
  },
  {
   "cell_type": "code",
   "execution_count": 17,
   "metadata": {
    "ExecuteTime": {
     "end_time": "2020-12-10T20:07:59.589538Z",
     "start_time": "2020-12-10T20:07:44.629446Z"
    },
    "pycharm": {
     "name": "#%%\n"
    }
   },
   "outputs": [
    {
     "data": {
      "image/png": "[encoded data removed]",
      "text/plain": [
       "<Figure size 1080x360 with 2 Axes>"
      ]
     },
     "metadata": {
      "needs_background": "light"
     },
     "output_type": "display_data"
    }
   ],
   "source": [
    "fig, axes = plt.subplots(1, 2, figsize=(15, 5))\n",
    "\n",
    "price = combined[\"Market_Price\"]\n",
    "sns.kdeplot(price, bw_adjust=0.05, ax=axes[0])\n",
    "axes[0].set_ylabel(\"Density\", ha=\"right\", rotation=0)\n",
    "axes[0].set_xlabel(\"Market Price\", ha=\"right\", rotation=0)\n",
    "sns.ecdfplot(price, ax=axes[1])\n",
    "axes[1].set_ylabel(\"Cumulative\\nProportion\", ha=\"right\", rotation=0)\n",
    "axes[1].set_xlabel(\"Market Price\", ha=\"right\", rotation=0)\n",
    "plt.tight_layout();"
   ]
  },
  {
   "cell_type": "markdown",
   "metadata": {},
   "source": [
    "These plots show a sophisticated market price distribution.\\\n",
    "For now we should take away from this that the market price does not closely follow some predefined distribution like log-normal or Gaussian, which are often assumed in this context. Doing so loses information."
   ]
  },
  {
   "cell_type": "markdown",
   "metadata": {},
   "source": [
    "## Applying the Kaplan-Meier Estimator"
   ]
  },
  {
   "cell_type": "markdown",
   "metadata": {
    "ExecuteTime": {
     "end_time": "2020-12-10T10:37:35.335771Z",
     "start_time": "2020-12-10T10:37:35.331772Z"
    }
   },
   "source": [
    "Before transitioning to the final model, we apply our already established model to the use case."
   ]
  },
  {
   "cell_type": "code",
   "execution_count": 18,
   "metadata": {
    "ExecuteTime": {
     "end_time": "2020-12-10T20:08:21.909843Z",
     "start_time": "2020-12-10T20:08:21.795846Z"
    }
   },
   "outputs": [],
   "source": [
    "bid = combined.Bid\n",
    "win = 1 - combined.Censored\n",
    "kme = KaplanMeierFitter()\n",
    "kme.fit(bid, event_observed=win, timeline=list(range(301)));"
   ]
  },
  {
   "cell_type": "markdown",
   "metadata": {},
   "source": [
    "As already mentioned, the y-axis represents the **share of auctions not won** at any given bid price.\n",
    "\n",
    "Since we are only given bids up to 69, there is no way to model bids that led to the high observed market prices."
   ]
  },
  {
   "cell_type": "code",
   "execution_count": 19,
   "metadata": {
    "ExecuteTime": {
     "end_time": "2020-12-10T20:08:24.835855Z",
     "start_time": "2020-12-10T20:08:24.532865Z"
    }
   },
   "outputs": [
    {
     "data": {
      "image/png": "[encoded data removed]",
      "text/plain": [
       "<Figure size 432x288 with 2 Axes>"
      ]
     },
     "metadata": {
      "needs_background": "light"
     },
     "output_type": "display_data"
    }
   ],
   "source": [
    "ax = kme.plot(at_risk_counts=True)\n",
    "ax.set_ylabel(\"Share of Auctions\\nnot Won\", ha=\"right\", rotation=0)\n",
    "ax.set_xlabel(\"Bid\");"
   ]
  },
  {
   "cell_type": "markdown",
   "metadata": {},
   "source": [
    "Especially interesting in this context is the cumulative density function, which serves as the **average win rate** of a bid."
   ]
  },
  {
   "cell_type": "code",
   "execution_count": 20,
   "metadata": {
    "ExecuteTime": {
     "end_time": "2020-12-10T20:08:27.034451Z",
     "start_time": "2020-12-10T20:08:26.900456Z"
    }
   },
   "outputs": [
    {
     "data": {
      "image/png": "[encoded data removed]",
      "text/plain": [
       "<Figure size 432x288 with 1 Axes>"
      ]
     },
     "metadata": {
      "needs_background": "light"
     },
     "output_type": "display_data"
    }
   ],
   "source": [
    "kme.plot_cumulative_density()\n",
    "plt.ylabel(\"Average\\nWin Rate\", ha=\"right\", rotation=0);"
   ]
  },
  {
   "cell_type": "markdown",
   "metadata": {
    "ExecuteTime": {
     "end_time": "2020-12-09T19:33:27.005712Z",
     "start_time": "2020-12-09T19:33:27.002708Z"
    }
   },
   "source": [
    "# Deep Landscape Forecasting\n"
   ]
  },
  {
   "cell_type": "markdown",
   "metadata": {
    "pycharm": {
     "name": "#%% md\n"
    }
   },
   "source": [
    "## The Bridge To Deep Learning\n",
    "How to move from a simple descriptive survival model such as Kaplan-Meier to Deep Learning might not seem intuitive at first.\n",
    "\n",
    "Most deep survival models essentially predict the Hazard function and construct the survival function from its cumulative product, much like in Kaplan-Meier. Others assume a distribution and just fit its parameters to the data.\n",
    "\n",
    "Ren et al. pursue the former of the two, in fact with a very organic approach based on probability theory, with which they are even able to construct individual price distributions for single auctions. More details are provided in section 5.4."
   ]
  },
  {
   "cell_type": "markdown",
   "metadata": {
    "ExecuteTime": {
     "end_time": "2020-12-09T19:33:36.861591Z",
     "start_time": "2020-12-09T19:33:36.858592Z"
    }
   },
   "source": [
    "## The Problem"
   ]
  },
  {
   "cell_type": "markdown",
   "metadata": {},
   "source": [
    "As already mentioned in section 2, the problem in an RTB scenario is to forecast the market price, especially for the losing advertisers since they have no idea of the historical price distribution of a given ad.\\\n",
    "Since traditional prediction models have no way of properly dealing with these **censored** observations, this is the reason for using survival analysis in the first place.\n",
    "\n",
    "How can we now come up with a cost-effective bidding strategy if it is infeasible to model each advertiser's bidding strategy?\n",
    "\n",
    "In their paper, Ren et al. bring up several more survival analysis models (partly deep learning) that have been proposed in past literature, but each of them suffers from at least one major drawback.\n",
    "\n",
    "    1. They cannot do fine-grained prediction, but have to predict over segments and take averages\n",
    "    2. They assume some kind of predefined distribution form, for example log-normal or Gaussian\n",
    "    3. They either only consider winning or losing logs for training, but never both\n",
    "\n",
    "Kaplan-Meier, for instance, suffers from number 1.\n",
    "\n",
    "Throughout this notebook, we have learned how and why all three of these things should be avoided. Ren et al. propose a new model that is the first one to do so."
   ]
  },
  {
   "cell_type": "markdown",
   "metadata": {},
   "source": [
    "## The Novelties\n",
    "* **Fine-grained prediction**: Distributions are predicted for each auction instead for a sample segment. Thus, predictions are individualized.\n",
    "\n",
    "\n",
    "* **No assumption of distribution forms**: Forecasts without prior assumptions about the market price distribution.\n",
    "\n",
    "\n",
    "* **Novel Censorship loss function**: A comprehensive loss function, that handles censorship and can use winning as well as losing data for learning."
   ]
  },
  {
   "cell_type": "markdown",
   "metadata": {},
   "source": [
    "## The Approach\n"
   ]
  },
  {
   "cell_type": "markdown",
   "metadata": {},
   "source": [
    "### Definitions\n",
    "\n",
    "We are dealing with a set of $L$ integer bid prices $0<b_1<b_2<...<b_L$. \n",
    "\n",
    "In our case, $L = 300$ (over the full data set). Therefore, we can separate the continuous space into discrete bins without losing information:\n",
    "\n",
    "$$V_l = (b_l, b_{l+1}] \\hspace{1cm}\\text{ with } \\hspace{1cm}l \\in \\{1, 2, ..., L\\}$$ \n",
    "\n",
    "We define $b_0=0$.\n",
    "\n",
    "Since the bids are always an integer and we use every possible bid, it must hold that: $b_{l+1}-b_l=1$.\n",
    "\n",
    "With this, we can define the winning and losing functions over discrete space:\n",
    "\n",
    "$$W(b_l) = Pr(z<b_l) = \\sum_{j<l} Pr(z\\in V_j)$$\n",
    "$$S(b_l) = Pr(z\\geq b_l) = \\sum_{j\\geq l} Pr(z\\in V_j) = 1 - W(b_l)$$\n",
    "\n",
    "The \"losing\" function is the **survival function** in this application.\n",
    "\n",
    "<br>\n",
    "\n",
    "The discrete market price probability function (P.D.F.) at the $l$-th price interval is described as:\n",
    "\n",
    "$$p_l = Pr(z\\in V_l) = W(b_{l+1}) - W(b_l) = S(b_l) - S(b_{l+1})$$ \n",
    "<center> \"What is the probability that the true market price $z$ lies within $V_l$?\" </center>\n",
    "<br>\n",
    "\n",
    "The conditional winning probability, also known as **Hazard**, gives us the probability of just narrowly winning the auction by proposing a bid at the $l$-th price interval:\n",
    "\n",
    "$$h_l = Pr(z\\in V_l | z \\geq b_{l-1}) = \\frac{Pr(z\\in V_l)}{Pr(z\\geq b_{l-1})} = \\frac{p_l}{S(b_{l-1})} = \\frac{S(b_l) - S(b_{l+1})}{S(b_{l-1})}$$\n",
    "<center> \"The probability that the true market price $z$ lies within $V_l$ given that $z$ is larger than all bid prices below $b_l$\" </center>\n",
    "<br>\n"
   ]
  },
  {
   "cell_type": "markdown",
   "metadata": {},
   "source": [
    "### RNN Architecture\n",
    "\n",
    "The paper separates the training data into winning and losing logs and trains a deep RNN to predict the conditional winning probabilities $h_l$. As input it uses feature vectors $x$ and bids $b$. \\\n",
    "Since $x$ consists of 16 categorical features, we want to avoid one-hot encoding them. Thus, $x$ is fed through an embedding matrix $e$, and $e(x)$ is passed to the model instead. For convenience, we will still write $x$ in the following notation.\n",
    "\n",
    "For every case $i$, each cell predicts the conditional winning probability $h_l^i$ of the bid, starting with 1 and increasing by 1 until their actual bid $b_l$ is reached.\n",
    "\n",
    "$$h_l^i = Pr(z \\in V_l | z \\geq b_{l-1}, x^i; \\theta) = f_\\theta(x^i, b_l | r_{l-1})$$\n",
    "<br>\n",
    "\n",
    "The process is best described by the following figure.\n",
    "\n",
    "<img src=\"Image/rnn_figure.png\" >\n",
    "<center>\n",
    "    Source: Ren et al. (2019)\n",
    "</center>\n",
    "\n",
    "Note that only winning logs know the true market price and can calculate $p_z$ for the Loss $L_1$, which is thematized in the next section.\n",
    "\n",
    "<br>\n",
    "\n",
    "**Note:** The authors apparently made a mistake in their implementation. Their model actually predicts $(1-h_l^i)$. This is without consequence for the correctness of their model but should be kept in mind when trying to understand the code in this notebook."
   ]
  },
  {
   "cell_type": "markdown",
   "metadata": {},
   "source": [
    "### Loss Functions\n",
    "The DLF model uses a comprehensive loss function based on two losses.\n",
    "\n",
    "The first loss $L_1$ is called ANLP loss and is based on the probability distribution function (P.D.F.). It minimizes the negative log-likelihood of the market price prediction over winning logs only. Since we also use it for evaluation, a more detailed description with code is provided in section 6.1.1.\\\n",
    "However, keep in mind that the **evaluation** function can be applied over both winning and losing logs after making predictions with **any model**, while the **loss** function is used on winning logs during training **DLF only**.\n",
    "\n",
    "<br>\n",
    "\n",
    "The second loss $L_2$ is based on the winning probability distribution (C.D.F.) and includes winning as well as losing data. Therefore $L_2$ consists of two losses $L_{win}$ and $L_{lose}$ and is the cross entropy loss for predicting the winning probability of bidding $b^i$, given $x^i$.\n",
    "\n",
    "$$L_2 = L_{win} + L_{lose}$$\n",
    "\n",
    "The left subfigure shows a winning case and helps to understand the motivation of $L_{win}$. Because we are looking for a price that is just higher than the true market price $z$, the loss is designed to \"push down\" the winning probability in $[0,z]$ and \"pull up\" the probability in $(z, \\infty)$, especially in $[z,b]$.\n",
    "Since the true market price $z$ is not known for the losing logs (right subfigure), $L_{lose}$ instead only \"pushes down\" the winning probability.\n",
    "\n",
    "<img src=\"Image/image-2.png\" width=\"700\">\n",
    "<center>\n",
    "    Source: Ren et al. (2019)\n",
    "</center>\n",
    "\n",
    "<br>\n",
    "\n",
    "Now it is possible to minimize the negative log-likelihood over all winning and losing logs as described below, with $\\alpha$ being a hyperparemeter to control the ratio of the two losses.\n",
    "\n",
    "$$ \\underset{\\theta}{\\operatorname{argmin}} {\\alpha L_1 + (1-\\alpha)L_2}$$\n",
    "\n"
   ]
  },
  {
   "cell_type": "markdown",
   "metadata": {
    "ExecuteTime": {
     "end_time": "2020-12-09T19:38:14.969428Z",
     "start_time": "2020-12-09T19:38:14.967426Z"
    }
   },
   "source": [
    "# Implementation"
   ]
  },
  {
   "cell_type": "markdown",
   "metadata": {},
   "source": [
    "With the gathered knowledge, we can now finally apply the model!\n",
    "\n",
    "The following hyperparameters are only a subset of the available ones, but should be sufficient to configure the model as desired."
   ]
  },
  {
   "cell_type": "code",
   "execution_count": 2,
   "metadata": {
    "ExecuteTime": {
     "end_time": "2021-03-23T16:24:49.457335Z",
     "start_time": "2021-03-23T16:24:49.442334Z"
    }
   },
   "outputs": [],
   "source": [
    "params = {\n",
    "          \"input_file\": \"2261\", # Input campaign number, don't change this\n",
    "          \"BATCH_SIZE\": 128,    # Batch size\n",
    "          \"TRAIN_STEPS\": 100,   # Number of batches to train on\n",
    "          \"STATE_SIZE\": 128,    # Number of LSTM cells\n",
    "          \"LR\": 0.0001,         # Learning rate\n",
    "          \"ALPHA\": 0.25,        # Coefficient for cross entropy loss, ANLP loss is 1 - ALPHA\n",
    "          \"L2_NORM\": 0.001,     # L2 Regularization\n",
    "          \"EMB_DIM\": 32,        # Embedding size\n",
    "         }"
   ]
  },
  {
   "cell_type": "markdown",
   "metadata": {
    "ExecuteTime": {
     "end_time": "2020-12-09T19:39:42.830358Z",
     "start_time": "2020-12-09T19:39:42.827358Z"
    }
   },
   "source": [
    "**Note on training steps**\n",
    "\n",
    "One step = `BATCH_SIZE` examples, so one epoch is `len(train) / BATCH_SIZE` steps.\n",
    "\n",
    "The train dataset we use has 687617 rows, so at  `BATCH_SIZE` of 128, we need roughly 5372 training steps for one epoch."
   ]
  },
  {
   "cell_type": "code",
   "execution_count": 3,
   "metadata": {
    "ExecuteTime": {
     "end_time": "2021-03-23T16:24:53.134336Z",
     "start_time": "2021-03-23T16:24:50.504339Z"
    }
   },
   "outputs": [
    {
     "name": "stdout",
     "output_type": "stream",
     "text": [
      "Placeholder Logfile created:\n",
      "\n",
      "\tDLF_2261_32_128_128_0.0001_0.001_0.25_0.75.txt\n",
      "\n",
      "Session opened.\n"
     ]
    }
   ],
   "source": [
    "dlf = DLFwrapper.DLFModel(**params)"
   ]
  },
  {
   "cell_type": "code",
   "execution_count": 23,
   "metadata": {
    "ExecuteTime": {
     "end_time": "2020-12-10T20:10:02.967168Z",
     "start_time": "2020-12-10T20:08:42.832612Z"
    }
   },
   "outputs": [
    {
     "name": "stdout",
     "output_type": "stream",
     "text": [
      "TRAIN DATA winning logs size:  221454 \n",
      "\n",
      "FULL DATA logs size:  687617 \n",
      "\n",
      "TEST DATA winning logs size:  100477 \n",
      "\n",
      "TEST DATA losing logs size:  243385 \n",
      "\n",
      "TRAINING LOG:\n",
      "\n",
      "2261\tTRAIN\t\t100\t2.5544\t0.5450\t\t6.3423\t\t5.3953\t\t32\t\t128\t\t128\t\t0.0001\t0.0001\t\t0.0010\t0.25\t0.75\n",
      "\n",
      "Model saved under ./saved_model/DLF_2261_32_128_128_0.0001_0.001_0.25_0.75-100\n",
      "\n"
     ]
    }
   ],
   "source": [
    "dlf.train()"
   ]
  },
  {
   "cell_type": "markdown",
   "metadata": {},
   "source": [
    "## Load Existing Model\n",
    "We have pretrained a model on 5000 batches which is loaded in the following:"
   ]
  },
  {
   "cell_type": "code",
   "execution_count": 4,
   "metadata": {
    "ExecuteTime": {
     "end_time": "2021-03-23T16:24:55.632339Z",
     "start_time": "2021-03-23T16:24:55.615341Z"
    }
   },
   "outputs": [],
   "source": [
    "checkpoint = f\".\\\\saved_model\\\\DLF_2261_32_128_128_0.0001_0.001_0.25_0.75-5000\"  # Insert saved model path here\n",
    "meta = checkpoint + \".meta\""
   ]
  },
  {
   "cell_type": "code",
   "execution_count": 5,
   "metadata": {
    "ExecuteTime": {
     "end_time": "2021-03-23T16:24:59.888335Z",
     "start_time": "2021-03-23T16:24:55.839343Z"
    }
   },
   "outputs": [],
   "source": [
    "dlf.model.sess = dlf.model.load(meta, checkpoint, step=5000)"
   ]
  },
  {
   "cell_type": "markdown",
   "metadata": {},
   "source": [
    "Get survival data to construct probability distribution (can take 20-30 minutes):"
   ]
  },
  {
   "cell_type": "code",
   "execution_count": null,
   "metadata": {
    "ExecuteTime": {
     "end_time": "2021-03-23T16:43:16.390629Z",
     "start_time": "2021-03-23T16:25:01.443333Z"
    }
   },
   "outputs": [],
   "source": [
    "hazards, bid, market_prices, prob = dlf.get_survival_data()"
   ]
  },
  {
   "cell_type": "markdown",
   "metadata": {},
   "source": [
    "## Obtaining Winning Function and Market Price P.D.F."
   ]
  },
  {
   "cell_type": "markdown",
   "metadata": {},
   "source": [
    "Formally, the DLF survival function can be determined from the model output as follows:\n",
    "\n",
    "$$S(b | x^i; \\theta) = Pr(b \\leq z | x^i; \\theta) $$\n",
    "\n",
    "$$= Pr(z \\notin V_1, z\\notin V_2, ..., z\\notin V_l | x^i; \\theta)$$\n",
    "\n",
    "$$= Pr(z\\notin V_1 | x^i; \\theta) \\cdot Pr(z\\notin V_2 | z\\notin V_1, x^i; \\theta) \\cdot ... \\cdot Pr(z\\notin V_{l_b} | z\\notin V_1, ..., z\\notin V_{l_b-1}, x^i; \\theta)$$\n",
    "\n",
    "$$= \\prod_{l:l\\leq l_b} \\left[ 1 - Pr(z\\in V_l | z \\geq b_l, x^i; \\theta)\\right]$$\n",
    "\n",
    "$$= \\prod_{l:l\\leq l_b} (1 - h_l^i)$$"
   ]
  },
  {
   "cell_type": "code",
   "execution_count": 27,
   "metadata": {
    "ExecuteTime": {
     "end_time": "2020-12-10T20:10:47.376651Z",
     "start_time": "2020-12-10T20:10:47.374651Z"
    }
   },
   "outputs": [],
   "source": [
    "def get_survfunc(hazarddata, **kwargs):\n",
    "    # This is where the authors made a mistake.\n",
    "    # The following code gives correct results, but according to their theory, it should be np.cumprod(1-hazard)\n",
    "    return np.cumprod(hazarddata, **kwargs)"
   ]
  },
  {
   "cell_type": "markdown",
   "metadata": {
    "ExecuteTime": {
     "end_time": "2020-12-10T18:22:27.881192Z",
     "start_time": "2020-12-10T18:22:27.877193Z"
    }
   },
   "source": [
    "In section 5.4.1, we defined: $p_l = S(b_l) - S(b_{l+1})$\n",
    "\n",
    "This means that we just need the survival function to be able to calculate the market price distribution:"
   ]
  },
  {
   "cell_type": "code",
   "execution_count": 28,
   "metadata": {
    "ExecuteTime": {
     "end_time": "2020-12-10T20:10:48.547652Z",
     "start_time": "2020-12-10T20:10:48.544652Z"
    }
   },
   "outputs": [],
   "source": [
    "def get_pdf(survfunc):\n",
    "    return survfunc[:-1] - survfunc[1:]"
   ]
  },
  {
   "cell_type": "markdown",
   "metadata": {},
   "source": [
    "Let's look at a single example:"
   ]
  },
  {
   "cell_type": "code",
   "execution_count": 31,
   "metadata": {
    "ExecuteTime": {
     "end_time": "2020-12-10T20:11:05.034890Z",
     "start_time": "2020-12-10T20:11:05.028900Z"
    }
   },
   "outputs": [],
   "source": [
    "def dlf_plots(example):\n",
    "    print(f\"Example {example}\\nBid: {bid[example]}\\nMarket Price: {market_prices[example]}\"\\\n",
    "      f\"\\nWin Confidence: {prob[example][1]:.2}\")\n",
    "    \n",
    "    _, chart = plt.subplots(1, 2, figsize=(16.5, 5))\n",
    "    chart = chart.ravel()\n",
    "    \n",
    "    # Win Probability:\n",
    "    survfunc = get_survfunc(hazards[example])\n",
    "    win = 1 - survfunc # Get the winning function (which is just 1 - survival function)\n",
    "    plt.sca(chart[0])\n",
    "    plt.plot(win)\n",
    "    plt.title(\"DLF Win Probability\")\n",
    "    plt.vlines(bid[example], 0, 1, color=\"red\", linestyles=\"dashed\", linewidth=1.5)\n",
    "    plt.vlines(market_prices[example], 0, 1, color=\"black\", linestyles=\"dashed\", linewidth=1.5)\n",
    "    plt.legend([\"Winning Function\", \"Bid\", \"True Market Price\"], loc=\"lower right\")\n",
    "    plt.xlabel(\"Price\")\n",
    "    \n",
    "    # Discrete P.D.F:\n",
    "    # The following code also gives the same result:\n",
    "    # pdf = (1-hazards[example][1:]) * np.cumprod(hazards[example][:-1])  \n",
    "    # It is the formal derivation from the paper (Equation 9)\n",
    "    \n",
    "    pdf = get_pdf(survfunc)  # Use survival function from above\n",
    "    \n",
    "    plt.sca(chart[1])\n",
    "    plt.plot(pdf)\n",
    "    plt.title(\"DLF Market PDF\")\n",
    "    plt.vlines(bid[example], 0, pdf.max(), color=\"red\", linestyles=\"dashed\", linewidth=1.5)\n",
    "    plt.vlines(market_prices[example], 0, pdf.max(), color=\"black\", linestyles=\"dashed\", linewidth=1.5)\n",
    "    plt.legend([\"Market Price PDF Estimation\", \"Bid\", \"True Market Price\"], loc=\"upper right\")\n",
    "    plt.xlabel(\"Price\")\n",
    "    "
   ]
  },
  {
   "cell_type": "code",
   "execution_count": 32,
   "metadata": {
    "ExecuteTime": {
     "end_time": "2020-12-10T20:11:06.488888Z",
     "start_time": "2020-12-10T20:11:06.201889Z"
    }
   },
   "outputs": [
    {
     "name": "stdout",
     "output_type": "stream",
     "text": [
      "Example 124\n",
      "Bid: 11\n",
      "Market Price: 20\n",
      "Win Confidence: 0.0049\n"
     ]
    },
    {
     "data": {
      "image/png": "[encoded data removed]",
      "text/plain": [
       "<Figure size 1188x360 with 2 Axes>"
      ]
     },
     "metadata": {
      "needs_background": "light"
     },
     "output_type": "display_data"
    }
   ],
   "source": [
    "# Feel free to change the example\n",
    "example = 124\n",
    "dlf_plots(example)"
   ]
  },
  {
   "cell_type": "markdown",
   "metadata": {},
   "source": [
    "As we can see, the model often predicts the market price really well, even for censored logs that never learned the market price during training!"
   ]
  },
  {
   "cell_type": "markdown",
   "metadata": {},
   "source": [
    "Compare this to KM again. Note that the KM statistics are always the same over the entire data set since KM does not allow for fine-grained predictions."
   ]
  },
  {
   "cell_type": "code",
   "execution_count": 33,
   "metadata": {
    "ExecuteTime": {
     "end_time": "2020-12-10T20:11:17.578470Z",
     "start_time": "2020-12-10T20:11:17.312469Z"
    }
   },
   "outputs": [
    {
     "data": {
      "image/png": "[encoded data removed]",
      "text/plain": [
       "<Figure size 1188x360 with 2 Axes>"
      ]
     },
     "metadata": {
      "needs_background": "light"
     },
     "output_type": "display_data"
    }
   ],
   "source": [
    "_, chart = plt.subplots(1,2,figsize=(16.5, 5))\n",
    "chart = chart.ravel()\n",
    "\n",
    "plt.sca(chart[0])\n",
    "kme.plot_cumulative_density()\n",
    "plt.title(\"KM Win Probability\")\n",
    "plt.xlabel(\"Price\")\n",
    "plt.legend([\"KM Estimate\"], loc=\"lower right\")\n",
    "\n",
    "plt.sca(chart[1])\n",
    "pdf = get_pdf(kme.survival_function_.values)\n",
    "plt.plot(pdf)\n",
    "plt.title(\"KM Market Price PDF\")\n",
    "plt.legend([\"KM Estimate\"], loc=\"upper right\")\n",
    "plt.xlabel(\"Price\");"
   ]
  },
  {
   "cell_type": "markdown",
   "metadata": {},
   "source": [
    "## Evaluation Metrics"
   ]
  },
  {
   "cell_type": "markdown",
   "metadata": {},
   "source": [
    "### ANLP"
   ]
  },
  {
   "cell_type": "markdown",
   "metadata": {},
   "source": [
    "ANLP is the Average Negative Log Probability, or **Information Entropy**. The higher the value, the more \"surprise\" or uncertainty our model involves. We use it to evaluate the quality of the predicted probability distribution.\n",
    "\n",
    "Define the learned forecasting function of a model as $p_z(z^i|x^i)$.\n",
    "\n",
    "This describes the model's confidence of the true market price being the market price. The higher this confidence, the better it models the market.\n",
    "\n",
    "ANLP is then defined as:\n",
    "$$\\bar{P} = -\\frac{1}{|D_{test}|} \\sum_{(x^i, z^i)\\in D_{test}} \\log p_z(z^i|x^i)$$\n",
    "\n",
    "Remember that for our case: $p_l = S(b_l) - S(b_{l+1})$\n",
    "\n",
    "Translated to the formula's format: $p_z = S(z^i|x^i) - S(z^i+1|x^i)$\n",
    "\n",
    "This means we just need the predicted survival function at market price and the price after that (same as in 6.2). Then we logarithmize the difference, negate it, and calculate the average."
   ]
  },
  {
   "cell_type": "code",
   "execution_count": 34,
   "metadata": {
    "ExecuteTime": {
     "end_time": "2020-12-10T20:11:21.808698Z",
     "start_time": "2020-12-10T20:11:21.803707Z"
    }
   },
   "outputs": [],
   "source": [
    "def anlp_loss(surv_data, prices):\n",
    "    # Calculate the row-wise survival functions (one for each auction)\n",
    "    # At each individual price level, this yields the predicted probability to lose the auction if we would bid \n",
    "    # exactly that much\n",
    "    cumprods = get_survfunc(surv_data, axis=1)\n",
    "    \n",
    "    # In every row, select the survival probability at exactly market price:\n",
    "    # The prices go from 1 to 300 and Python starts counting at 0, so we need to subtract 1.\n",
    "    surv_at_mp = np.array([cumprods[enum, price-1] for enum, price in enumerate(prices)])\n",
    "    \n",
    "    # Since we take the (price-1)th element, we have a problem if prices==0. We fix this here:\n",
    "    # The losing probability for a bid of 0 is always 1 for everybody.\n",
    "    surv_at_mp = np.where(prices==0, 1, surv_at_mp)\n",
    "    \n",
    "    # In every row, select the survival probability at the price just after market price:\n",
    "    surv_after_mp = np.array([cumprods[enum, price] for enum, price in enumerate(prices)])\n",
    "    \n",
    "    # Subtract S(z+1) from S(z) to get the model's confidence of the true market price being the market price:\n",
    "    # If the model predicts perfectly, then surv_at_mp==1 (100% lose) and surv_after_mp==0 (100% win).\n",
    "    # A bid above market price MUST be winning. Otherwise the market price would be higher (second-price auction).\n",
    "    p_z = surv_at_mp - surv_after_mp\n",
    "    \n",
    "    # Logarithmize the differences, negate the result and calculate the average:\n",
    "    anlp = np.mean(-np.log(p_z))\n",
    "    \n",
    "    return anlp"
   ]
  },
  {
   "cell_type": "markdown",
   "metadata": {},
   "source": [
    "Check DLF loss (lower is better):"
   ]
  },
  {
   "cell_type": "code",
   "execution_count": 35,
   "metadata": {
    "ExecuteTime": {
     "end_time": "2020-12-10T20:11:24.023618Z",
     "start_time": "2020-12-10T20:11:23.068619Z"
    }
   },
   "outputs": [
    {
     "data": {
      "text/plain": [
       "6.942537610272731"
      ]
     },
     "execution_count": 35,
     "metadata": {},
     "output_type": "execute_result"
    }
   ],
   "source": [
    "anlp_loss(hazards, market_prices)"
   ]
  },
  {
   "cell_type": "markdown",
   "metadata": {},
   "source": [
    "### Concordance Index"
   ]
  },
  {
   "cell_type": "markdown",
   "metadata": {},
   "source": [
    "The C-Index is a **generalization** of ROC-AUC that can take into account censored data, and the most commonly used evaluation metric in survival analysis.\n",
    "\n",
    "In our case, we view the auction as a classification, since our goal is simply to win the auction. We can therefore just carry out regular ROC-AUC and use the winning function at the bid price $W(b_l)$ as input."
   ]
  },
  {
   "cell_type": "code",
   "execution_count": 36,
   "metadata": {
    "ExecuteTime": {
     "end_time": "2020-12-10T20:11:30.471292Z",
     "start_time": "2020-12-10T20:11:30.468289Z"
    }
   },
   "outputs": [],
   "source": [
    "def cindex(hazarddata, bids, prices):\n",
    "    # Construct the target (winning) from our bids and market prices\n",
    "    target = (bids > prices)*1\n",
    "    \n",
    "    # Get the winning function:\n",
    "    winfunc = 1 - get_survfunc(hazards, axis=1)\n",
    "    \n",
    "    # In every row, select the survival probability for the own bid:\n",
    "    winprob_at_bid = np.array([winfunc[enum, price-1] for enum, price in enumerate(bids)])\n",
    "    \n",
    "    # Apply the same fix as in ANLP (not necessary in this particular case, because there are not bids==0):\n",
    "    winprob_at_bid = np.where(bids==0, 0, winprob_at_bid)\n",
    "    \n",
    "    # Calculate the ROC-AUC:\n",
    "    roc_score = roc_auc_score(target, winprob_at_bid)\n",
    "    \n",
    "    return roc_score"
   ]
  },
  {
   "cell_type": "markdown",
   "metadata": {},
   "source": [
    "Check DLF C-Index (higher is better)"
   ]
  },
  {
   "cell_type": "code",
   "execution_count": 37,
   "metadata": {
    "ExecuteTime": {
     "end_time": "2020-12-10T20:11:33.555658Z",
     "start_time": "2020-12-10T20:11:32.346661Z"
    }
   },
   "outputs": [
    {
     "data": {
      "text/plain": [
       "0.921923502677885"
      ]
     },
     "execution_count": 37,
     "metadata": {},
     "output_type": "execute_result"
    }
   ],
   "source": [
    "cindex(hazards, bid, market_prices)"
   ]
  },
  {
   "cell_type": "markdown",
   "metadata": {},
   "source": [
    "Check KM loss functions via function provided by the DLF authors:"
   ]
  },
  {
   "cell_type": "code",
   "execution_count": 38,
   "metadata": {
    "ExecuteTime": {
     "end_time": "2020-12-10T20:11:38.422668Z",
     "start_time": "2020-12-10T20:11:34.815660Z"
    },
    "scrolled": true
   },
   "outputs": [
    {
     "name": "stdout",
     "output_type": "stream",
     "text": [
      "test count is 343862\n",
      "anlp: 14.66521243102574\n",
      "c-index: 0.6667370632059806\n"
     ]
    }
   ],
   "source": [
    "km.trainTest(params[\"input_file\"])"
   ]
  },
  {
   "cell_type": "markdown",
   "metadata": {},
   "source": [
    "# Conclusion"
   ]
  },
  {
   "cell_type": "markdown",
   "metadata": {},
   "source": [
    "As we can see, the DLF model outperforms KM by quite a margin.\\\n",
    "In fact, in the paper, the DLF approach outclasses every state-of-the-art model on every forecasting task significantly!\n",
    "\n",
    "The following plot from the paper illustrates this excellently:"
   ]
  },
  {
   "cell_type": "markdown",
   "metadata": {
    "ExecuteTime": {
     "end_time": "2020-12-10T20:19:04.599798Z",
     "start_time": "2020-12-10T20:19:04.595799Z"
    }
   },
   "source": [
    "<img src=\"Image/model_comparison.png\" width=\"900\">\n",
    "<center>\n",
    "    Source: Ren et al. (2019)\n",
    "</center>"
   ]
  },
  {
   "cell_type": "markdown",
   "metadata": {},
   "source": [
    "It shows every model's winning and market price PDF functions on a single example, comparing their performances. The only model that predicts the true market price reliably is DLF.\n",
    "\n",
    "Therefore, it is shown that DLF can theoretically improve bidding strategies in an RTB scenario."
   ]
  }
 ],
 "metadata": {
  "kernelspec": {
   "display_name": "Python 3",
   "language": "python",
   "name": "python3"
  },
  "language_info": {
   "codemirror_mode": {
    "name": "ipython",
    "version": 3
   },
   "file_extension": ".py",
   "mimetype": "text/x-python",
   "name": "python",
   "nbconvert_exporter": "python",
   "pygments_lexer": "ipython3",
   "version": "3.9.6"
  },
  "toc": {
   "base_numbering": 1,
   "nav_menu": {},
   "number_sections": true,
   "sideBar": true,
   "skip_h1_title": false,
   "title_cell": "Table of Contents",
   "title_sidebar": "Contents",
   "toc_cell": false,
   "toc_position": {
    "height": "757px",
    "left": "24px",
    "top": "110px",
    "width": "384px"
   },
   "toc_section_display": true,
   "toc_window_display": true
  },
  "varInspector": {
   "cols": {
    "lenName": 16,
    "lenType": 16,
    "lenVar": 40
   },
   "kernels_config": {
    "python": {
     "delete_cmd_postfix": "",
     "delete_cmd_prefix": "del ",
     "library": "var_list.py",
     "varRefreshCmd": "print(var_dic_list())"
    },
    "r": {
     "delete_cmd_postfix": ") ",
     "delete_cmd_prefix": "rm(",
     "library": "var_list.r",
     "varRefreshCmd": "cat(var_dic_list()) "
    }
   },
   "types_to_exclude": [
    "module",
    "function",
    "builtin_function_or_method",
    "instance",
    "_Feature"
   ],
   "window_display": false
  }
 },
 "nbformat": 4,
 "nbformat_minor": 1
}
